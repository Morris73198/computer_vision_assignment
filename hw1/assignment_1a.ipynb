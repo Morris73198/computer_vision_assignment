{
 "cells": [
  {
   "cell_type": "code",
   "execution_count": 1,
   "metadata": {},
   "outputs": [],
   "source": [
    "#函式筆記\n",
    "# np.linalg.matrix_rank()  #計算矩陣的Rank\n",
    "\n",
    "# np.hstack()  #堆疊矩陣\n",
    "    #a=[[1],[2],[3]]\n",
    "    #b=[[1],[2],[3]]\n",
    "    #c=[[1],[2],[3]]\n",
    "    #d=[[1],[2],[3]]\n",
    "    #print(np.hstack((a,b,c,d)))\n",
    "\n",
    "    #输出：\n",
    "     #[[1 1 1 1]\n",
    "     # [2 2 2 2]\n",
    "     # [3 3 3 3]]\n",
    "\n",
    "#A.shape[1]  #to get the column number of A"
   ]
  },
  {
   "cell_type": "code",
   "execution_count": 2,
   "metadata": {},
   "outputs": [],
   "source": [
    "#Hint\n",
    "# By (Proposition 1)\n",
    "#  if (Rank(A) == Rank(Ab))\n",
    "#        𝐀x = 𝐛 is consistent. #表示 Ax=b 有解\n",
    "\n",
    "\n",
    "# By (Proposition 2)\n",
    "#  if (Rank(A) == n)\n",
    "#       A的行之間互相是 linearly independent，代表有唯一解\n",
    "#  else\n",
    "#       線性相依，代表不只一個解"
   ]
  },
  {
   "cell_type": "code",
   "execution_count": 3,
   "metadata": {},
   "outputs": [
    {
     "name": "stdout",
     "output_type": "stream",
     "text": [
      "case1\n",
      "A = [[ 3  2 -1]\n",
      " [ 6 -1  3]\n",
      " [ 1 10 -2]] b = [[-7 -4  2]]\n",
      "The linear system Ax=b has only one solution.\n",
      "The solution is  [[-2.]\n",
      " [ 1.]\n",
      " [ 3.]]\n",
      "\n",
      "case2\n",
      "A = [[ 4 -1  3]\n",
      " [21 -4 18]\n",
      " [-9  1 -9]] b = [[ 5  7 -8]]\n",
      "The linear system Ax=b has no solutions.\n",
      "\n",
      "case3\n",
      "A = [[ 7 -4  1]\n",
      " [ 3  2 -1]\n",
      " [ 5 12 -5]] b = [[-15  -5  -5]]\n",
      "The linear system Ax=b has infinitely many solutions.\n",
      "\n"
     ]
    }
   ],
   "source": [
    "import numpy as np\n",
    "def solve_linear_equation(A, b):\n",
    "   # enter your code here, and remove the following line (30%)\n",
    "   \n",
    "   rank_A = np.linalg.matrix_rank(A) #計算RankA\n",
    "   AB = np.hstack((A, b)) #將A和b合併\n",
    "   rank_AB = np.linalg.matrix_rank(AB) #計算Ab的Rank\n",
    "\n",
    "   # By Proposition 1 and Proposition 2\n",
    "   if rank_AB == rank_A: #𝐀x = 𝐛 is consistent\n",
    "        if rank_A == A.shape[1]:\n",
    "            return 1 # Only one solution\n",
    "        else:\n",
    "            return 0 # Infinitely many solutions\n",
    "   else:\n",
    "        return -1 # 𝐀x = 𝐛 is not consistent #No solutions\n",
    "   return 0\n",
    "\n",
    "def flag_to_message(flag):\n",
    "   if flag == 1:\n",
    "     print('The linear system Ax=b has only one solution.')\n",
    "   elif flag == 0:\n",
    "     print('The linear system Ax=b has infinitely many solutions.')\n",
    "   elif flag == -1:\n",
    "     print('The linear system Ax=b has no solutions.')\n",
    "   else:\n",
    "     print('Unknown flag!')\n",
    "\n",
    "def get_input_data(input_id):\n",
    "   if input_id == 'case1': \n",
    "     A = np.array([[3, 2, -1], [6, -1, 3], [1, 10, -2]])\n",
    "     b = np.array([[-7], [-4], [2]])\n",
    "   elif input_id == 'case2':\n",
    "     A = np.array([[4, -1, 3], [21, -4, 18], [-9, 1, -9]])\n",
    "     b = np.array([[5], [7], [-8]])\n",
    "   elif input_id == 'case3':\n",
    "     A = np.array([[7, -4, 1], [3, 2, -1], [5, 12, -5]])\n",
    "     b = np.array([[-15], [-5], [-5]])\n",
    "   return A, b\n",
    "\n",
    "if __name__ == '__main__':\n",
    "   for case in ['case1', 'case2', 'case3']:\n",
    "     A, b = get_input_data(case)\n",
    "     print(case)\n",
    "     print('A =', A, 'b =', b.T)\n",
    "     flag = solve_linear_equation(A, b)\n",
    "     flag_to_message(flag)\n",
    "     if flag == 1:\n",
    "       print('The solution is ', np.linalg.solve(A, b))\n",
    "     print()\n"
   ]
  },
  {
   "cell_type": "code",
   "execution_count": 4,
   "metadata": {},
   "outputs": [],
   "source": [
    "# Can we use np.linalg.solve() to determine whether 𝐀𝐱=𝐛 is consistent? Explain the reason for your answer. (5%)\n",
    "# Write down your answer here.\n",
    "\n",
    "#ANS\n",
    "# 可以的，當我們使用 np.linalg.solve() 來解決 Ax=b 時，分成以下3種情況:\n",
    "\n",
    "#A:唯一解: 直接輸出答案\n",
    "#B:無限解: 輸出無限解中其中一個解\n",
    "#C:無解: 會顯示Error\n",
    "\n",
    "#所以如果單純只是要看看 𝐀𝐱=𝐛 是否 consistent， np.linalg.solve() 是可以做到的。"
   ]
  },
  {
   "cell_type": "code",
   "execution_count": 5,
   "metadata": {},
   "outputs": [],
   "source": [
    "# Given matrix 𝐀 of dimension (m,n). If rank(𝐀)=𝑛, can we infer that 𝐀𝐱=𝐛 is consistent? Explain the reason for your answer. (5%)\n",
    "# Write down your answer here.\n",
    "\n",
    "#ANS\n",
    "#可以的，如果Rank(A)=就代表A的每一列都跟b是線性獨立的，代表b可以用A的列的一組唯一一組組合來表示，所以Ax=b是consistent的。"
   ]
  }
 ],
 "metadata": {
  "kernelspec": {
   "display_name": "Python 3",
   "language": "python",
   "name": "python3"
  },
  "language_info": {
   "codemirror_mode": {
    "name": "ipython",
    "version": 3
   },
   "file_extension": ".py",
   "mimetype": "text/x-python",
   "name": "python",
   "nbconvert_exporter": "python",
   "pygments_lexer": "ipython3",
   "version": "3.11.5"
  }
 },
 "nbformat": 4,
 "nbformat_minor": 2
}
