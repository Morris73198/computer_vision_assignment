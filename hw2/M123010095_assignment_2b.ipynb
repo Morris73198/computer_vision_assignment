{
 "cells": [
  {
   "cell_type": "code",
   "execution_count": 3,
   "metadata": {},
   "outputs": [
    {
     "name": "stdout",
     "output_type": "stream",
     "text": [
      "0 <= width < 10: 34735\n",
      "10 <= width < 20: 57370\n",
      "20 <= width < 30: 25016\n",
      "30 <= width < 40: 13424\n",
      "40 <= width < 50: 8058\n",
      "50 <= width: 20793\n",
      "0 <= width/height < 0.6: 7860\n",
      "0.6 <= width/height < 0.7: 23046\n",
      "0.7 <= width/height < 0.8: 47077\n",
      "0.8 <= width/height < 0.9: 45514\n",
      "0.9 <= width/height < 1.0: 16824\n",
      "1.0 <= width/height: 19075\n"
     ]
    },
    {
     "data": {
      "image/png": "[encoded data removed]",
      "text/plain": [
       "<Figure size 640x480 with 1 Axes>"
      ]
     },
     "metadata": {},
     "output_type": "display_data"
    }
   ],
   "source": [
    "import numpy as np\n",
    "import matplotlib.pyplot as plt\n",
    "%matplotlib inline\n",
    "\n",
    "if __name__ == '__main__':\n",
    "  anno_file = 'annotation.txt'\n",
    "  with open(anno_file, 'r') as fp:\n",
    "    lines = fp.readlines()\n",
    "  # Enter your code here (25%)\n",
    "  # You might use the following to access each line\n",
    "  # for line in lines:\n",
    "  #Step 2b.1: Open assignment_2b.ipynb\n",
    "  #2b.2\n",
    "  width_ranges = [(0, 10), (10, 20), (20, 30), (30, 40), (40, 50), (50, float('inf'))]# 用width_ranges 來表示每個寬度範圍的下界和上界\n",
    "  width_counts = [0] * len(width_ranges)# 創造一個list用來存屬於rannge的值\n",
    "  \n",
    "  for line in lines:\n",
    "    annotation = line.strip().split(' ')# Use annotation = line.strip().split(' ') to convert each line to a list\n",
    "    #print(line)\n",
    "    bboxes = np.array([int(x) for x in annotation[1:]]).reshape(-1, 4)#Convert the type of each element of annotation[1:] to integer 併四個四個一組\n",
    "    #print(bboxes)\n",
    "    for x1, y1, x2, y2 in bboxes:\n",
    "        width = x2 - x1 + 1 #The width of a bounding box is defined as x2-x1+1\n",
    "        height = y2 - y1 + 1 #The height of a bounding box is defined as y2-y1+1\n",
    "        \n",
    "        if width >= 0 and height >= 0 and x2 > x1 and y2 > y1:  # 檢查當前定界框是否有效\n",
    "            for i, (low, up) in enumerate(width_ranges):\n",
    "                if low <= width < up:\n",
    "                    width_counts[i] += 1 #看width屬於哪一個range\n",
    "                    break\n",
    "\n",
    "  for i, (low, up) in enumerate(width_ranges):\n",
    "    if up == float('inf'):\n",
    "        print(f\"{low} <= width: {width_counts[i]}\")\n",
    "    else:\n",
    "        print(f\"{low} <= width < {up}: {width_counts[i]}\")\n",
    "  #Display the required information in Step 2 based on the above list\n",
    "  \n",
    "  #2b.3\n",
    "  ratio_ranges = [(0, 0.6), (0.6, 0.7), (0.7, 0.8), (0.8, 0.9), (0.9, 1.0), (1.0, float('inf'))]\n",
    "  ratio_counts = [0] * len(ratio_ranges)\n",
    "\n",
    "  for line in lines:\n",
    "    annotation = line.strip().split(' ')\n",
    "    bboxes = np.array([int(x) for x in annotation[1:]]).reshape(-1, 4)\n",
    "    \n",
    "    for x1, y1, x2, y2 in bboxes:\n",
    "        width = x2 - x1 + 1\n",
    "        height = y2 - y1 + 1\n",
    "        \n",
    "        if width >= 0 and height >= 0 and x2 > x1 and y2 > y1:  \n",
    "            ratio = width / height\n",
    "            for i, (low, up) in enumerate(ratio_ranges):\n",
    "                if low <= ratio < up:\n",
    "                    ratio_counts[i] += 1\n",
    "                    break\n",
    "\n",
    "  for i, (low, up) in enumerate(ratio_ranges):\n",
    "    if up == float('inf'):\n",
    "        print(f\"{low} <= width/height: {ratio_counts[i]}\")\n",
    "    else:\n",
    "        print(f\"{low} <= width/height < {up}: {ratio_counts[i]}\")\n",
    "        \n",
    "        #基本上跟2b.2一樣  只是將width改為width/height\n",
    "  #2b.4  \n",
    "  widths = []\n",
    "  for line in lines:\n",
    "    annotation = line.strip().split(' ')\n",
    "    bboxes = np.array([int(x) for x in annotation[1:]]).reshape(-1, 4)\n",
    "    \n",
    "    for x1, y1, x2, y2 in bboxes:\n",
    "        width = x2 - x1 + 1\n",
    "        height = y2 - y1 + 1\n",
    "        #上面都跟2b.2 2b.3一樣\n",
    "        if width >= 0 and height >= 0 and x2 > x1 and y2 > y1:  \n",
    "            widths.append(width) #如果有效  將width加到list中\n",
    "\n",
    " \n",
    "  plt.hist(widths, bins=range(0, 101, 10), rwidth=0.85)#跟講義一樣\n",
    "  plt.xlabel('Width')\n",
    "  plt.ylabel('Count')\n",
    "  plt.show()\n"
   ]
  },
  {
   "cell_type": "code",
   "execution_count": 4,
   "metadata": {},
   "outputs": [
    {
     "name": "stdout",
     "output_type": "stream",
     "text": [
      "535\n"
     ]
    }
   ],
   "source": [
    "# Step 2b.5: In Step 2b.1, we only consider valid bounding boxes. How many bounding boxes are invalid? Modify the above code to find the answer. (5%)\n",
    "# Write down your answer here.\n",
    "\n",
    "invalid = 0\n",
    "\n",
    "for line in lines:\n",
    "    annotation = line.strip().split(' ')\n",
    "    bboxes = np.array([int(x) for x in annotation[1:]]).reshape(-1, 4)\n",
    "    \n",
    "    for x1, y1, x2, y2 in bboxes:\n",
    "        if not (x1 >= 0 and y1 >= 0 and x2 > x1 and y2 > y1):\n",
    "            invalid += 1\n",
    "\n",
    "print(invalid)\n",
    "#535個"
   ]
  }
 ],
 "metadata": {
  "kernelspec": {
   "display_name": "Python 3",
   "language": "python",
   "name": "python3"
  },
  "language_info": {
   "codemirror_mode": {
    "name": "ipython",
    "version": 3
   },
   "file_extension": ".py",
   "mimetype": "text/x-python",
   "name": "python",
   "nbconvert_exporter": "python",
   "pygments_lexer": "ipython3",
   "version": "3.9.19"
  }
 },
 "nbformat": 4,
 "nbformat_minor": 2
}
